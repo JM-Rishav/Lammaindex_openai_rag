{
 "cells": [
  {
   "cell_type": "code",
   "execution_count": null,
   "id": "886d39cf",
   "metadata": {
    "vscode": {
     "languageId": "plaintext"
    }
   },
   "outputs": [],
   "source": [
    "## Retrival Augmented generation\n",
    "\n",
    "import os \n",
    "from dotenv import load_dotenv\n",
    "load_dotenv()"
   ]
  },
  {
   "cell_type": "code",
   "execution_count": null,
   "id": "3b8b4783",
   "metadata": {
    "vscode": {
     "languageId": "plaintext"
    }
   },
   "outputs": [],
   "source": [
    "os.environ['OPENAI_API_KEY']=os.getenv(\"OPENAI_API_KEY\")"
   ]
  },
  {
   "cell_type": "code",
   "execution_count": null,
   "id": "9c729827",
   "metadata": {
    "vscode": {
     "languageId": "plaintext"
    }
   },
   "outputs": [],
   "source": [
    "from llama_index import VectorStoreIndex, SimpleDirectoryReader\n",
    "from llama_index.llms import OpenAI\n",
    "\n",
    "documents = SimpleDirectoryReader('data').load_data()\n",
    "response = query_engine.query(\"What are the most important requirements for a good resume?\")"
   ]
  },
  {
   "cell_type": "code",
   "execution_count": null,
   "id": "dd2cf2ee",
   "metadata": {
    "vscode": {
     "languageId": "plaintext"
    }
   },
   "outputs": [],
   "source": [
    "# it creates vector store index from documents, and stores it in memory\n",
    "# show_progress will show the progress bar, how much time it will take\n",
    "index = VectorStoreIndex.from_documents(documents,show_progress=True)\n",
    "index"
   ]
  },
  {
   "cell_type": "code",
   "execution_count": null,
   "id": "aa9e005c",
   "metadata": {
    "vscode": {
     "languageId": "plaintext"
    }
   },
   "outputs": [],
   "source": [
    "# query engine is like a search\n",
    "query_engine = index.as_query_engine()\n",
    "\n",
    "# for retriving from the query engine\n",
    "query_engine"
   ]
  },
  {
   "cell_type": "code",
   "execution_count": null,
   "id": "5a1ad4cb",
   "metadata": {
    "vscode": {
     "languageId": "plaintext"
    }
   },
   "outputs": [],
   "source": [
    "response = query_engine.query(\"What is transformer ?\")\n",
    "print(response)"
   ]
  },
  {
   "cell_type": "code",
   "execution_count": null,
   "id": "9bf559d7",
   "metadata": {
    "vscode": {
     "languageId": "plaintext"
    }
   },
   "outputs": [],
   "source": [
    "from llama_index.response.pprint_utils import pprint_response\n",
    "pprint_response(response,show_source=True)\n",
    "print(response)"
   ]
  },
  {
   "cell_type": "code",
   "execution_count": null,
   "id": "70e48add",
   "metadata": {
    "vscode": {
     "languageId": "plaintext"
    }
   },
   "outputs": [],
   "source": [
    "from llama_index.retrievers import VectorIndexRetriever\n",
    "from llama_index.query_engine import RetrieverQueryEngine\n",
    "from llama_index.indices.postprocessor import SimilarityPostprocessor\n",
    "\n",
    "\n",
    "retriever = VectorIndexRetriever(index=index, similarity_top_k=4)\n",
    "postprocessor=SimilarityPostprocessor(similarity_cutoff=0.5, similarity_top_k=4)\n",
    "\n",
    "\n",
    "query_engine = RetrieverQueryEngine.from_args(retriever=retriever, node_postprocessors=[postprocessor])\n",
    "response = query_engine.query(\"What is transformer ?\")\n",
    "print(response)"
   ]
  },
  {
   "cell_type": "code",
   "execution_count": null,
   "id": "6d072277",
   "metadata": {
    "vscode": {
     "languageId": "plaintext"
    }
   },
   "outputs": [],
   "source": [
    "import os.path\n",
    "from llama_index import (\n",
    "    VectorStoreIndex,\n",
    "    SimpleDirectoryReader,\n",
    "    StorageContext,\n",
    "    load_index_from_storage,\n",
    ")\n",
    "\n",
    "\n",
    "# check if storage already exists or not\n",
    "PERSSIST_DISK = \"./storage\"\n",
    "if os.path.exists(PERSSIST_DIS):\n",
    "    # load the documents and create index\n",
    "    documents = SimpleDirectoryReader(\"data\").load_data()\n",
    "    index = VectorStoreIndex.from_documents(documents)    \n",
    "    #store it for later usage by loading from storage\n",
    "    index.storage_context.persist(persist_dir=PERSSIST_DISK)\n",
    "    print(index)\n",
    "else:\n",
    "    # load the existing index\n",
    "    storage_context = StorageContext.from_defaults(persist_dir=PERSSIST_DISK)\n",
    "    index = load_index_from_storage(storage_context)\n",
    "    print(index)\n",
    "\n",
    "# either way we can now query the index\n",
    "query_engine = index.as_query_engine()\n",
    "response = query_engine.query(\"What are transformers ?\")\n",
    "print(response)"
   ]
  }
 ],
 "metadata": {
  "language_info": {
   "name": "python"
  }
 },
 "nbformat": 4,
 "nbformat_minor": 5
}
